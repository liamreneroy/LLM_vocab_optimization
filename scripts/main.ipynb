{
 "cells": [
  {
   "cell_type": "markdown",
   "metadata": {},
   "source": [
    "# Main"
   ]
  },
  {
   "cell_type": "markdown",
   "metadata": {},
   "source": [
    "## Imports"
   ]
  },
  {
   "cell_type": "code",
   "execution_count": 1,
   "metadata": {},
   "outputs": [
    {
     "data": {
      "text/plain": [
       "'/Users/liamroy/Documents/Studies/Monash_31194990/PHD/Studies/Study_04/LLM_vocab_optimization/scripts'"
      ]
     },
     "execution_count": 1,
     "metadata": {},
     "output_type": "execute_result"
    }
   ],
   "source": [
    "%pwd"
   ]
  },
  {
   "cell_type": "code",
   "execution_count": 2,
   "metadata": {},
   "outputs": [],
   "source": [
    "# Imports\n",
    "import sys\n",
    "import numpy as np\n",
    "import random\n",
    "import time\n",
    "random.seed(time.time())\n",
    "\n",
    "from itertools import product\n",
    "\n",
    "from openai import OpenAI\n",
    "client = OpenAI()\n",
    "\n",
    "from robots_and_modules.helper_functions import llm_prompt_reply\n",
    "from robots_and_modules.prompt_builder import build_prompt"
   ]
  },
  {
   "cell_type": "markdown",
   "metadata": {},
   "source": [
    "## Define Inputs"
   ]
  },
  {
   "cell_type": "code",
   "execution_count": 11,
   "metadata": {},
   "outputs": [],
   "source": [
    "## Configuration parameters\n",
    "attempt_ID = '00'\n",
    "\n",
    "iteration_quantity = 100\n",
    "llm_model = \"gpt-4o\"                    # gpt-3.5-turbo     | Use this for dev/testing\n",
    "                                        # gpt-4 / gpt-4o    | Use this when deployed, more expensive\n",
    "                                        # gpt-4o-mini       | Lightweight, less expensive than gpt4o\n",
    "temperature_coefficient = 1.0           # Moderately stochastic @ 0.6 to 1.0\n",
    "frequency_penalty_coefficient = 1.0     # Lightly penalize repetition @ 0.2\n",
    "top_p_coefficient=1.0                   # Nucleus sampling for controlled randomness @ 0.85 to 0.6\n",
    "omission_probability = 0.5\n",
    "\n",
    "# Default to go1_obj and 'spread' state space\n",
    "robot_module = 'go1'        # 'go1' or 'jackal'\n",
    "state_space = 'spread'      # 'spread' or 'minimized'\n",
    "\n",
    "printer = True # True or None"
   ]
  },
  {
   "cell_type": "markdown",
   "metadata": {},
   "source": [
    "### Check Robot Module and State Space"
   ]
  },
  {
   "cell_type": "code",
   "execution_count": null,
   "metadata": {},
   "outputs": [],
   "source": [
    "# Check if robot_module and state_space are within the bounds of go1/jackal and spread/minimized\n",
    "if robot_module not in ['go1', 'jackal']:\n",
    "    print(f\"Error: Invalid robot module specified. Using default: {robot_module}\")\n",
    "if state_space not in ['spread', 'minimized']:\n",
    "    print(f\"Error: Invalid state space specified. Using default: {state_space}\")\n",
    "\n",
    "\n",
    "# Import the specified robot module as robot_obj\n",
    "robot_obj = __import__(\"robots_and_modules.\" + robot_module)"
   ]
  },
  {
   "cell_type": "markdown",
   "metadata": {},
   "source": [
    "### Select State Space based on Module"
   ]
  },
  {
   "cell_type": "code",
   "execution_count": 9,
   "metadata": {},
   "outputs": [],
   "source": [
    "# The data in this should be in the format: \"State Number: [State Name, State Description]\"\n",
    "# Used for Go1 robot\n",
    "if robot_module == 'go1_obj':\n",
    "    if state_space == 'spread':\n",
    "        set_of_states = [\n",
    "        \"S01: [Waiting for Input, The robot is in standby mode waiting for a command from the user.]\",\n",
    "        \"S02: [Analyzing Object, The robot is analyzing a target object in front of it on the ground.]\", \n",
    "        \"S03: [Found Object, The robot has found a target object in front of it on the ground.]\",\n",
    "        \"S04: [Needs Help, The robot is experiencing an error and needs help from the user.]\",\n",
    "        \"S05: [Confused, The robot is confused and unsure what to do.]\",\n",
    "        \"S06: [Unsure, It is unclear as the robot does not appear to be in any of the described states.]\"\n",
    "        ]\n",
    "        \n",
    "    elif state_space == 'minimized':\n",
    "        set_of_states = [\n",
    "        \"S01: [Waiting for Input, The robot is in standby mode waiting for a command from the user.]\",\n",
    "        \"S02: [Interacting with Object, The robot is pointing out a target object in front of it on the ground.]\", \n",
    "        \"S03: [Needs Help, The robot is in a confused error staate and needs help from the user.]\",\n",
    "        \"S04: [Unsure, It is unclear as the robot does not appear to be in any of the described states.]\"\n",
    "        ]\n",
    "\n",
    "\n",
    "\n",
    "        \n",
    "# Used for Jackal robot\n",
    "elif robot_module == 'jackal_obj':\n",
    "    if state_space == 'spread':\n",
    "        set_of_states = [\n",
    "            \"S01: [Processing, The robot is analyzing the request and planning the navigation route.]\",\n",
    "            \"S02: [Navigating, The robot is actively navigating toward the destination and does not require assistance.]\",\n",
    "            \"S03: [Danger, The robot is signaling for the user's attention due to a detected hazard.]\",\n",
    "            \"S04: [Stuck, The robot is signaling for the user's attention as its path is blocked.]\",\n",
    "            \"S05: [Accomplished, The robot has successfully reached the requested destination.]\",\n",
    "            \"S06: [Unsure, The robot's statr is unclear as it does not appear to be in any of the described states.]\"\n",
    "        ]\n",
    "\n",
    "    elif state_space == 'minimized':\n",
    "        set_of_states = [\n",
    "            \"S01: [Progressing, The robot is progressing on the assigned task and does not require assistance.]\",\n",
    "            \"S02: [Alert, The robot is signaling for the user's attention due to a possible hazard or blocked path.]\",\n",
    "            \"S03: [Accomplished, The robot has successfully reached the requested destination.]\",\n",
    "            \"S04: [Unsure, The robot's statr is unclear as it does not appear to be in any of the described states.]\"\n",
    "        ]"
   ]
  },
  {
   "cell_type": "markdown",
   "metadata": {},
   "source": [
    "### Create Robot Instance | Set Assistant Prompt and Context"
   ]
  },
  {
   "cell_type": "code",
   "execution_count": null,
   "metadata": {},
   "outputs": [],
   "source": [
    "llm_assistant_prompt = \"You are an expert roboticist and understand how to design communicative expressions for human-robot interaction.\"\n",
    "\n",
    "robot_instance = robot_obj.Robot(set_of_states)\n",
    "\n",
    "deployment_context = f\"Consider a scenario where you are collaborating with a {robot_instance.form_factor} robot to locate and pick strawberries in a strawberry patch.\""
   ]
  },
  {
   "cell_type": "markdown",
   "metadata": {},
   "source": [
    "## Accuracy Proxy Generator"
   ]
  },
  {
   "cell_type": "markdown",
   "metadata": {},
   "source": [
    "### Generate the Accuracy Proxy .npy Array"
   ]
  },
  {
   "cell_type": "code",
   "execution_count": null,
   "metadata": {},
   "outputs": [],
   "source": [
    "# Initialize error and total counters\n",
    "error_counter = 0\n",
    "total_counter = 0\n",
    "\n",
    "# Create robot object\n",
    "robot_instance = robot_obj.Robot(set_of_states)\n",
    "\n",
    "# Get action space shape, and use it to create a for loop that itterates all indices\n",
    "action_space_shape = robot_instance.get_action_space_shape()\n",
    "\n",
    "# Itterate through all possible actions in action space\n",
    "# count = 0\n",
    "# for indices in product(*(range(dim) for dim in action_space_shape)):\n",
    "#     count += 1\n",
    "#     print(f\"Action {count}:\")\n",
    "#     robot_instance.set_active_parameter(list(indices))\n",
    "#     print(robot_instance.active_parameters)\n",
    "#     print(robot_instance.generate_description(omission_probability))\n",
    "#     print(\"\\n\\n\")\n",
    "\n",
    "# Set active parameters based on action space shape for robot_instance\n",
    "test_value_A = [0, 0, 1, 0, 1, 0]  # Example values within range for each parameter\n",
    "test_value_B = [1, 2, 0, 2, 0, 1]  # Example values within range for each parameter\n",
    "test_value_C = [0, 1, 2, 1, 1, 2]  # Example values within range for each parameter\n",
    "set_set = [test_value_A, test_value_B, test_value_C]\n",
    "\n",
    "for test_values in set_set:\n",
    "    robot_instance.set_active_parameter(test_values)\n",
    "\n",
    "    # Five iterations for loop\n",
    "    for iteration in range(iteration_quantity):\n",
    "\n",
    "        if printer:\n",
    "            print(f\"**********************************************************************\")\n",
    "            print(f\"ITERATION {iteration+1} FOR {robot_instance.active_parameters}\")\n",
    "            print(f\"**********************************************************************\")\n",
    "\n",
    "        # Generate description with test values and omission probability\n",
    "        raw_description = robot_instance.generate_description(omission_probability)\n",
    "\n",
    "        # Prepare a promt with context + robot description\n",
    "        summary_prompt = f\"{deployment_context} Summarize the explanation below, focusing on describing the robot's actions in this scenario:\\n{raw_description}\"\n",
    "        \n",
    "        ### SWAP UNCOMMENT TO DISABLE TEST AND ENABLE LLM\n",
    "        # Summarize the context + robot description using llm \n",
    "        summarized_expression = raw_description\n",
    "        # summarized_expression = llm_prompt_reply(prompt=summary_prompt, \n",
    "        #                                           client=client, \n",
    "        #                                           llm_model=llm_model, \n",
    "        #                                           llm_assistant_prompt=llm_assistant_prompt, \n",
    "        #                                           temperature_coefficient=temperature_coefficient, \n",
    "        #                                           frequency_penalty_coefficient=frequency_penalty_coefficient, \n",
    "        #                                           top_p_coefficient=top_p_coefficient)\n",
    "\n",
    "\n",
    "        # Print before and after summary\n",
    "        if printer:\n",
    "            print(f\"\\nRAW DESCRIPTION:\\n{raw_description}\")\n",
    "            print(f\"\\nLLM SUMMARY:\\n{summarized_expression}\")\n",
    "\n",
    "        # Pass summarized expression to prompt builder, along with set of states and robot_instance parameters \n",
    "        acc_proxy_prompt = build_prompt(expression_string=summarized_expression, state_list=set_of_states, deployment_context=deployment_context, llm_assistant_prompt=llm_assistant_prompt)\n",
    "        \n",
    "        if printer:\n",
    "            print(f\"\\n\\nACCURACY PROXY PROMPT:\\n~~~{acc_proxy_prompt}~~~\\n\\n\")\n",
    "\n",
    "\n",
    "        ### SWAP UNCOMMENT TO DISABLE TEST AND ENABLE LLM\n",
    "        options = [\"[S01, Waiting for Input]\", \"[S02, Analyzing Object]\", \"[S03, Found Object]\", \"[S04, Needs Help]\", \"[S05, Confused]\", \"[S06, Unsure]\"]\n",
    "        acc_proxy_reply = random.choice(options)\n",
    "        # Run the prompt through the accuracy proxy model\n",
    "        # acc_proxy_reply = llm_prompt_reply(acc_proxy_prompt, client, llm_model, llm_assistant_prompt, temperature_coefficient, frequency_penalty_coefficient, top_p_coefficient)\n",
    "\n",
    "        # Parse the accuracy proxy reply to identify the state\n",
    "        state_code, _ = acc_proxy_reply.strip(\"[]\").split(\", \")\n",
    "        state_code = state_code.strip(\"'\")\n",
    "        \n",
    "        # Check if the state code exists within the dictionary\n",
    "        if state_code in robot_instance.action_space[tuple(test_values)]:\n",
    "            # Increment the count for the identified state in the action space\n",
    "            robot_instance.action_space[tuple(test_values)][state_code] += 1\n",
    "            total_counter += 1\n",
    "\n",
    "            if printer:\n",
    "                # Output the identified state code\n",
    "                print(f\"Identified state code: {state_code}\")\n",
    "                # Output the updated action space\n",
    "                print(f\"Updated action space: {robot_instance.action_space[tuple(test_values)]}\\n\")\n",
    "\n",
    "        else:\n",
    "            # Output an error message if the state code does not exist\n",
    "            error_counter += 1\n",
    "            total_counter += 1\n",
    "            \n",
    "            if printer:\n",
    "                print(f\"Error: State code '{state_code}' does not exist in the action space.\\n\")\n",
    "\n",
    "        #     # Log the reply from the accuracy proxy model to the robot_instance action_space\n",
    "        #     robot_instance.action_space[1, 1, 0, 0, 1, 0] = acc_proxy_reply\n",
    "    \n",
    "    if printer:\n",
    "        print(f\"@@@@@@@@@@@@@@@@@@@@@@@@@@@@@@@@@@@@@@@@@@@@\")\n",
    "        print(f\"COMPLETED ALL {iteration_quantity} ITERATIONS FOR {robot_instance.active_parameters}\")\n",
    "        print(f\"@@@@@@@@@@@@@@@@@@@@@@@@@@@@@@@@@@@@@@@@@@@@\\n\\n\")\n",
    "\n",
    "if printer:\n",
    "    print(f\"$$$$$$$$$$$$$$$$$$$$$$$$$$$$$$$$$$$$$$$$$$$$\")\n",
    "    print(f\"COMPLETED ALL COMBINATIONS\")\n",
    "    print(f\"$$$$$$$$$$$$$$$$$$$$$$$$$$$$$$$$$$$$$$$$$$$$\\n\\n\")\n"
   ]
  },
  {
   "cell_type": "markdown",
   "metadata": {},
   "source": [
    "### Save the Array to External File"
   ]
  },
  {
   "cell_type": "code",
   "execution_count": 12,
   "metadata": {},
   "outputs": [
    {
     "ename": "NameError",
     "evalue": "name 'robot_instance' is not defined",
     "output_type": "error",
     "traceback": [
      "\u001b[0;31m---------------------------------------------------------------------------\u001b[0m",
      "\u001b[0;31mNameError\u001b[0m                                 Traceback (most recent call last)",
      "Cell \u001b[0;32mIn[12], line 3\u001b[0m\n\u001b[1;32m      1\u001b[0m \u001b[38;5;66;03m# Save the numpy array robot_instance.action_space to a file \u001b[39;00m\n\u001b[1;32m      2\u001b[0m save_string \u001b[38;5;241m=\u001b[39m robot_module \u001b[38;5;241m+\u001b[39m \u001b[38;5;124m\"\u001b[39m\u001b[38;5;124m_acc_array_\u001b[39m\u001b[38;5;124m\"\u001b[39m \u001b[38;5;241m+\u001b[39m attempt_ID \u001b[38;5;241m+\u001b[39m \u001b[38;5;124m\"\u001b[39m\u001b[38;5;124m.npy\u001b[39m\u001b[38;5;124m\"\u001b[39m\n\u001b[0;32m----> 3\u001b[0m np\u001b[38;5;241m.\u001b[39msave(\u001b[38;5;124mf\u001b[39m\u001b[38;5;124m\"\u001b[39m\u001b[38;5;124m./../data/acc_arrays/\u001b[39m\u001b[38;5;132;01m{\u001b[39;00msave_string\u001b[38;5;132;01m}\u001b[39;00m\u001b[38;5;124m\"\u001b[39m, \u001b[43mrobot_instance\u001b[49m\u001b[38;5;241m.\u001b[39maction_space)\n",
      "\u001b[0;31mNameError\u001b[0m: name 'robot_instance' is not defined"
     ]
    }
   ],
   "source": [
    "# Define the save string for the numpy array\n",
    "save_string = robot_module + \"_acc_array_\" + attempt_ID + \".npy\"\n",
    "\n",
    "# Save the numpy array robot_instance.action_space to a file \n",
    "np.save(f\"./../data/acc_arrays/{save_string}\", robot_instance.action_space)"
   ]
  },
  {
   "cell_type": "markdown",
   "metadata": {},
   "source": [
    "## Generate the Kinematic Distance Object"
   ]
  },
  {
   "cell_type": "code",
   "execution_count": null,
   "metadata": {},
   "outputs": [],
   "source": [
    "# PASS FOR NOW"
   ]
  },
  {
   "cell_type": "markdown",
   "metadata": {},
   "source": [
    "## Evaluate the Cost Function"
   ]
  },
  {
   "cell_type": "markdown",
   "metadata": {},
   "source": [
    "### This is all WIP below"
   ]
  },
  {
   "cell_type": "code",
   "execution_count": 14,
   "metadata": {},
   "outputs": [
    {
     "ename": "ModuleNotFoundError",
     "evalue": "No module named 'distance_calculator'",
     "output_type": "error",
     "traceback": [
      "\u001b[0;31m---------------------------------------------------------------------------\u001b[0m",
      "\u001b[0;31mModuleNotFoundError\u001b[0m                       Traceback (most recent call last)",
      "Cell \u001b[0;32mIn[14], line 4\u001b[0m\n\u001b[1;32m      2\u001b[0m \u001b[38;5;28;01mimport\u001b[39;00m\u001b[38;5;250m \u001b[39m\u001b[38;5;21;01mnumpy\u001b[39;00m\u001b[38;5;250m \u001b[39m\u001b[38;5;28;01mas\u001b[39;00m\u001b[38;5;250m \u001b[39m\u001b[38;5;21;01mnp\u001b[39;00m\n\u001b[1;32m      3\u001b[0m \u001b[38;5;28;01mfrom\u001b[39;00m\u001b[38;5;250m \u001b[39m\u001b[38;5;21;01mitertools\u001b[39;00m\u001b[38;5;250m \u001b[39m\u001b[38;5;28;01mimport\u001b[39;00m product\n\u001b[0;32m----> 4\u001b[0m \u001b[38;5;28;01mimport\u001b[39;00m\u001b[38;5;250m \u001b[39m\u001b[38;5;21;01mdistance_calculator\u001b[39;00m  \u001b[38;5;66;03m# Assumed to contain distance functions\u001b[39;00m\n\u001b[1;32m      6\u001b[0m \u001b[38;5;28;01mfrom\u001b[39;00m\u001b[38;5;250m \u001b[39m\u001b[38;5;21;01mrobots_and_modules\u001b[39;00m\u001b[38;5;21;01m.\u001b[39;00m\u001b[38;5;21;01mgo1\u001b[39;00m\u001b[38;5;250m \u001b[39m\u001b[38;5;28;01mimport\u001b[39;00m Robot  \u001b[38;5;66;03m# Import the Robot class\u001b[39;00m\n\u001b[1;32m     11\u001b[0m \u001b[38;5;66;03m# Load accuracy proxy values from external file\u001b[39;00m\n",
      "\u001b[0;31mModuleNotFoundError\u001b[0m: No module named 'distance_calculator'"
     ]
    }
   ],
   "source": [
    "# # Calculate the distance term for each action in action space based on the selected distance approach\n",
    "# # distance_terms = calculate_distance_terms(robot_instance.action_space)\n",
    "\n",
    "# # Analyze the action space for the robot_instance using cost function and determine the best action\n",
    "# # best_action = analyze_action_space(robot_instance.action_space)\n",
    "\n",
    "# # Log the best action to an external spreadsheet\n",
    "# #log_data(.......)\n",
    "\n",
    "# # Return the best action in terminal\n",
    "# #print(f\"\\n\\nBest action: {best_action}\")\n",
    "\n",
    "\n",
    "\n",
    "# Imports\n",
    "import numpy as np\n",
    "from itertools import product\n",
    "import distance_calculator  # Assumed to contain distance functions\n",
    "\n",
    "from robots_and_modules.go1 import Robot  # Import the Robot class\n",
    "\n",
    "\n",
    "\n",
    "\n",
    "# Load accuracy proxy values from external file\n",
    "ACCURACY_PROXY_FILE = \"./../acc_arrays/go1_obj_acc_array_00.npy\"\n",
    "\n",
    "\n",
    "\n",
    "class PoseEvaluator:\n",
    "    def __init__(self, motion_param_ranges, weight=0.5):\n",
    "        \"\"\"\n",
    "        Initialize the evaluator.\n",
    "\n",
    "        Parameters:\n",
    "            motion_param_ranges (list of int): List containing the range of values for each motion parameter.   e.g. [3, 3, 3, 3]\n",
    "            weight (float): Weighting factor for accuracy vs. distance in the cost function (0 <= w <= 1).      e.g. 0.5\n",
    "        \"\"\"\n",
    "        self.motion_param_ranges = motion_param_ranges\n",
    "        self.weight = weight\n",
    "        self.poses_dict = {}  # Dictionary to store defined expressions\n",
    "        self.accuracy_proxy = np.load(ACCURACY_PROXY_FILE)  # Load accuracy proxy values\n",
    "\n",
    "    def get_accuracy(self, A):\n",
    "        \"\"\"\n",
    "        Retrieves accuracy proxy value for a given pose A.\n",
    "\n",
    "        Parameters:\n",
    "            A (tuple): A motion parameter combination (n-vector).\n",
    "\n",
    "        Returns:\n",
    "            float: Accuracy proxy value for A.\n",
    "        \"\"\"\n",
    "        return self.accuracy_proxy[tuple(A)]  # Access value based on indices in A\n",
    "\n",
    "    def get_min_distance(self, A):\n",
    "        \"\"\"\n",
    "        Computes the minimum distance between A and all defined expressions in the dictionary.\n",
    "\n",
    "        Parameters:\n",
    "            A (tuple): A motion parameter combination (n-vector).\n",
    "\n",
    "        Returns:\n",
    "            float: Minimum distance from A to any other expression. Returns 0 if no expressions exist.\n",
    "        \"\"\"\n",
    "        if not self.poses_dict:  # If no other expressions exist\n",
    "            return 0.0\n",
    "\n",
    "        distances = [distance_calculator.calculate_distance(\"emd\", np.array(A), np.array(B))\n",
    "                     for B in self.poses_dict.values()]\n",
    "        return min(distances)  # Return the minimum distance found\n",
    "\n",
    "    def evaluate_cost(self, A):\n",
    "        \"\"\"\n",
    "        Evaluates the cost function f(A, B).\n",
    "\n",
    "        Parameters:\n",
    "            A (tuple): A motion parameter combination (n-vector).\n",
    "\n",
    "        Returns:\n",
    "            float: Evaluated cost value.\n",
    "        \"\"\"\n",
    "        accuracy_term = self.get_accuracy(A)\n",
    "        distance_term = self.get_min_distance(A)\n",
    "        cost = self.weight * accuracy_term + (1 - self.weight) * distance_term\n",
    "        return cost\n",
    "\n",
    "    def find_best_pose(self):\n",
    "        \"\"\"\n",
    "        Iterates through all possible parameter value combinations to find the best pose.\n",
    "\n",
    "        Returns:\n",
    "            tuple: Best parameter combination with the highest cost value.\n",
    "        \"\"\"\n",
    "        best_A = None\n",
    "        best_cost = float(\"-inf\")\n",
    "\n",
    "        # Generate all possible motion parameter combinations\n",
    "        for A in product(*[range(v) for v in self.motion_param_ranges]):\n",
    "            cost = self.evaluate_cost(A)\n",
    "\n",
    "            if cost > best_cost:\n",
    "                best_cost = cost\n",
    "                best_A = A\n",
    "\n",
    "        return best_A, best_cost\n",
    "\n",
    "\n",
    "# Example Usage\n",
    "if __name__ == \"__main__\":\n",
    "    # Define motion parameter ranges (e.g., each parameter can take values 0, 1, 2)\n",
    "    motion_param_ranges = [3, 3, 3, 3]  # Example: 4 motion parameters, each in range 0-2\n",
    "\n",
    "    evaluator = PoseEvaluator(motion_param_ranges, weight=0.7)  # Weighting accuracy more\n",
    "\n",
    "    # Define some initial expressions in the dictionary\n",
    "    evaluator.poses_dict = {\n",
    "        \"stuck\": (3, 2, 1, 2),\n",
    "        \"progressing\": (1, 0, 2, 1)\n",
    "    }\n",
    "\n",
    "    # Find the best pose based on the cost function\n",
    "    best_pose, best_cost = evaluator.find_best_pose()\n",
    "\n",
    "    print(f\"Best Pose: {best_pose} with Cost: {best_cost}\")\n"
   ]
  },
  {
   "cell_type": "markdown",
   "metadata": {},
   "source": []
  }
 ],
 "metadata": {
  "kernelspec": {
   "display_name": "phd",
   "language": "python",
   "name": "python3"
  },
  "language_info": {
   "codemirror_mode": {
    "name": "ipython",
    "version": 3
   },
   "file_extension": ".py",
   "mimetype": "text/x-python",
   "name": "python",
   "nbconvert_exporter": "python",
   "pygments_lexer": "ipython3",
   "version": "3.9.21"
  }
 },
 "nbformat": 4,
 "nbformat_minor": 2
}
